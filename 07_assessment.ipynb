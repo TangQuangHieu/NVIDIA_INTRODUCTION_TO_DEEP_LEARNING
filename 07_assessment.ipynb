{
 "cells": [
  {
   "cell_type": "markdown",
   "metadata": {},
   "source": [
    "<img src=\"./images/DLI_Header.png\" style=\"width: 400px;\">"
   ]
  },
  {
   "cell_type": "markdown",
   "metadata": {},
   "source": [
    "# Assessment"
   ]
  },
  {
   "cell_type": "markdown",
   "metadata": {},
   "source": [
    "Congratulations on going through today's course! Hopefully, you've learned some valuable skills along the way and had fun doing it. Now it's time to put those skills to the test. In this assessment, you will train a new model that is able to recognize fresh and rotten fruit. You will need to get the model to a validation accuracy of `92%` in order to pass the assessment, though we challenge you to do even better if you can. You will have the use the skills that you learned in the previous exercises. Specifically, we suggest using some combination of transfer learning, data augmentation, and fine tuning. Once you have trained the model to be at least 92% accurate on the validation dataset, save your model, and then assess its accuracy. Let's get started! "
   ]
  },
  {
   "cell_type": "markdown",
   "metadata": {},
   "source": [
    "## The Dataset"
   ]
  },
  {
   "cell_type": "markdown",
   "metadata": {},
   "source": [
    "In this exercise, you will train a model to recognize fresh and rotten fruits. The dataset comes from [Kaggle](https://www.kaggle.com/sriramr/fruits-fresh-and-rotten-for-classification), a great place to go if you're interested in starting a project after this class. The dataset structure is in the `data/fruits` folder. There are 6 categories of fruits: fresh apples, fresh oranges, fresh bananas, rotten apples, rotten oranges, and rotten bananas. This will mean that your model will require an output layer of 6 neurons to do the categorization successfully. You'll also need to compile the model with `categorical_crossentropy`, as we have more than two categories."
   ]
  },
  {
   "cell_type": "markdown",
   "metadata": {},
   "source": [
    "<img src=\"./images/fruits.png\" style=\"width: 600px;\">"
   ]
  },
  {
   "cell_type": "markdown",
   "metadata": {},
   "source": [
    "## Load ImageNet Base Model"
   ]
  },
  {
   "cell_type": "markdown",
   "metadata": {},
   "source": [
    "We encourage you to start with a model pretrained on ImageNet. Load the model with the correct weights, set an input shape, and choose to remove the last layers of the model. Remember that images have three dimensions: a height, and width, and a number of channels. Because these pictures are in color, there will be three channels for red, green, and blue. We've filled in the input shape for you. This cannot be changed or the assessment will fail. If you need a reference for setting up the pretrained model, please take a look at [notebook 05b](05b_presidential_doggy_door.ipynb) where we implemented transfer learning."
   ]
  },
  {
   "cell_type": "code",
   "execution_count": 2,
   "metadata": {},
   "outputs": [
    {
     "name": "stdout",
     "output_type": "stream",
     "text": [
      "Downloading data from https://storage.googleapis.com/tensorflow/keras-applications/vgg16/vgg16_weights_tf_dim_ordering_tf_kernels_notop.h5\n",
      "58892288/58889256 [==============================] - 0s 0us/step\n"
     ]
    }
   ],
   "source": [
    "from tensorflow import keras\n",
    "\n",
    "base_model = keras.applications.VGG16(\n",
    "    weights='imagenet',  # Load weights pre-trained on ImageNet.\n",
    "    input_shape=(224, 224, 3),\n",
    "    include_top=False)"
   ]
  },
  {
   "cell_type": "markdown",
   "metadata": {},
   "source": [
    "## Freeze Base Model"
   ]
  },
  {
   "cell_type": "markdown",
   "metadata": {},
   "source": [
    "Next, we suggest freezing the base model, as done in [notebook 05b](05b_presidential_doggy_door.ipynb). This is done so that all the learning from the ImageNet dataset does not get destroyed in the initial training."
   ]
  },
  {
   "cell_type": "code",
   "execution_count": 3,
   "metadata": {},
   "outputs": [],
   "source": [
    "# Freeze base model\n",
    "base_model.trainable = False"
   ]
  },
  {
   "cell_type": "markdown",
   "metadata": {},
   "source": [
    "## Add Layers to Model"
   ]
  },
  {
   "cell_type": "markdown",
   "metadata": {},
   "source": [
    "Now it's time to add layers to the pretrained model. [Notebook 05b](05b_presidential_doggy_door.ipynb) can be used as a guide. Pay close attention to the last dense layer and make sure it has the correct number of neurons to classify the different types of fruit."
   ]
  },
  {
   "cell_type": "code",
   "execution_count": 7,
   "metadata": {},
   "outputs": [],
   "source": [
    "# Create inputs with correct shape\n",
    "inputs = keras.Input(shape=(224, 224, 3))\n",
    "\n",
    "x = base_model(inputs, training=False)\n",
    "\n",
    "# Add pooling layer or flatten layer\n",
    "x = keras.layers.GlobalAveragePooling2D()(x)\n",
    "\n",
    "# Add final dense layer\n",
    "outputs = keras.layers.Dense(units=6, activation = 'softmax')(x)\n",
    "\n",
    "# Combine inputs and outputs to create model\n",
    "model = keras.Model(inputs,outputs)"
   ]
  },
  {
   "cell_type": "code",
   "execution_count": 8,
   "metadata": {},
   "outputs": [
    {
     "name": "stdout",
     "output_type": "stream",
     "text": [
      "Model: \"model_1\"\n",
      "_________________________________________________________________\n",
      "Layer (type)                 Output Shape              Param #   \n",
      "=================================================================\n",
      "input_4 (InputLayer)         [(None, 224, 224, 3)]     0         \n",
      "_________________________________________________________________\n",
      "vgg16 (Model)                (None, 7, 7, 512)         14714688  \n",
      "_________________________________________________________________\n",
      "global_average_pooling2d_2 ( (None, 512)               0         \n",
      "_________________________________________________________________\n",
      "dense_1 (Dense)              (None, 6)                 3078      \n",
      "=================================================================\n",
      "Total params: 14,717,766\n",
      "Trainable params: 3,078\n",
      "Non-trainable params: 14,714,688\n",
      "_________________________________________________________________\n"
     ]
    }
   ],
   "source": [
    "model.summary()"
   ]
  },
  {
   "cell_type": "markdown",
   "metadata": {},
   "source": [
    "## Compile Model"
   ]
  },
  {
   "cell_type": "markdown",
   "metadata": {},
   "source": [
    "Now it's time to compile the model with loss and metrics options. Remember that we're training on a number of different categories, rather than a binary classification problem."
   ]
  },
  {
   "cell_type": "code",
   "execution_count": 9,
   "metadata": {},
   "outputs": [],
   "source": [
    "model.compile(loss = 'categorical_crossentropy' , metrics = ['accuracy'])"
   ]
  },
  {
   "cell_type": "markdown",
   "metadata": {},
   "source": [
    "## Augment the Data"
   ]
  },
  {
   "cell_type": "markdown",
   "metadata": {},
   "source": [
    "If you'd like, try to augment the data to improve the dataset. Feel free to look at [notebook 04a](04a_asl_augmentation.ipynb) and [notebook 05b](05b_presidential_doggy_door.ipynb) for augmentation examples. There is also documentation for the [Keras ImageDataGenerator class](https://keras.io/api/preprocessing/image/#imagedatagenerator-class). This step is optional, but it may be helpful to get to 92% accuracy."
   ]
  },
  {
   "cell_type": "code",
   "execution_count": 10,
   "metadata": {},
   "outputs": [],
   "source": [
    "from tensorflow.keras.preprocessing.image import ImageDataGenerator\n",
    "\n",
    "datagen = ImageDataGenerator(\n",
    "         samplewise_center=True,  # set each sample mean to 0\n",
    "        rotation_range=10,  # randomly rotate images in the range (degrees, 0 to 180)\n",
    "        zoom_range = 0.1, # Randomly zoom image \n",
    "        width_shift_range=0.1,  # randomly shift images horizontally (fraction of total width)\n",
    "        height_shift_range=0.1,  # randomly shift images vertically (fraction of total height)\n",
    "        horizontal_flip=True,  # randomly flip images\n",
    "        vertical_flip=False) # we don't expect Bo to be upside-down so we will not flip vertically"
   ]
  },
  {
   "cell_type": "markdown",
   "metadata": {},
   "source": [
    "## Load Dataset"
   ]
  },
  {
   "cell_type": "markdown",
   "metadata": {},
   "source": [
    "Now it's time to load the train and validation datasets. Pick the right folders, as well as the right `target_size` of the images (it needs to match the height and width input of the model you've created). If you'd like a reference, you can check out [notebook 05b](05b_presidential_doggy_door.ipynb)."
   ]
  },
  {
   "cell_type": "code",
   "execution_count": 11,
   "metadata": {},
   "outputs": [
    {
     "name": "stdout",
     "output_type": "stream",
     "text": [
      "Found 1182 images belonging to 6 classes.\n",
      "Found 329 images belonging to 6 classes.\n"
     ]
    }
   ],
   "source": [
    "# load and iterate training dataset\n",
    "train_it = datagen.flow_from_directory('data/fruits/train/', \n",
    "                                       target_size=(224, 224), \n",
    "                                       color_mode='rgb', \n",
    "                                       class_mode=\"categorical\")\n",
    "# load and iterate validation dataset\n",
    "valid_it = datagen.flow_from_directory('data/fruits/valid/', \n",
    "                                      target_size=(224, 224), \n",
    "                                      color_mode='rgb', \n",
    "                                      class_mode=\"categorical\")"
   ]
  },
  {
   "cell_type": "markdown",
   "metadata": {},
   "source": [
    "## Train the Model"
   ]
  },
  {
   "cell_type": "markdown",
   "metadata": {},
   "source": [
    "Time to train the model! Pass the `train` and `valid` iterators into the `fit` function, as well as setting your desired number of epochs."
   ]
  },
  {
   "cell_type": "code",
   "execution_count": null,
   "metadata": {},
   "outputs": [
    {
     "name": "stdout",
     "output_type": "stream",
     "text": [
      "Epoch 1/50\n",
      "37/36 [==============================] - 29s 782ms/step - loss: 2.4945 - accuracy: 0.4552 - val_loss: 1.1407 - val_accuracy: 0.6960\n",
      "Epoch 2/50\n",
      "37/36 [==============================] - 20s 540ms/step - loss: 0.7298 - accuracy: 0.7547 - val_loss: 0.6084 - val_accuracy: 0.8389\n",
      "Epoch 3/50\n",
      "37/36 [==============================] - 20s 535ms/step - loss: 0.4040 - accuracy: 0.8689 - val_loss: 0.4823 - val_accuracy: 0.8602\n",
      "Epoch 4/50\n",
      "37/36 [==============================] - 20s 533ms/step - loss: 0.2434 - accuracy: 0.9154 - val_loss: 0.3121 - val_accuracy: 0.9331\n",
      "Epoch 5/50\n",
      "37/36 [==============================] - 20s 539ms/step - loss: 0.1846 - accuracy: 0.9306 - val_loss: 0.3656 - val_accuracy: 0.9149\n",
      "Epoch 6/50\n",
      "37/36 [==============================] - 20s 545ms/step - loss: 0.1384 - accuracy: 0.9518 - val_loss: 0.2584 - val_accuracy: 0.9301\n",
      "Epoch 7/50\n",
      "37/36 [==============================] - 20s 540ms/step - loss: 0.1274 - accuracy: 0.9535 - val_loss: 0.2395 - val_accuracy: 0.9331\n",
      "Epoch 8/50\n",
      "37/36 [==============================] - 20s 539ms/step - loss: 0.1060 - accuracy: 0.9645 - val_loss: 0.2711 - val_accuracy: 0.9331\n",
      "Epoch 9/50\n",
      "37/36 [==============================] - 20s 544ms/step - loss: 0.0740 - accuracy: 0.9797 - val_loss: 0.1878 - val_accuracy: 0.9422\n",
      "Epoch 10/50\n",
      "37/36 [==============================] - 20s 545ms/step - loss: 0.0561 - accuracy: 0.9814 - val_loss: 0.2570 - val_accuracy: 0.9331\n",
      "Epoch 11/50\n",
      "37/36 [==============================] - 20s 532ms/step - loss: 0.0492 - accuracy: 0.9865 - val_loss: 0.1792 - val_accuracy: 0.9514\n",
      "Epoch 12/50\n",
      "37/36 [==============================] - 20s 549ms/step - loss: 0.0485 - accuracy: 0.9839 - val_loss: 0.1810 - val_accuracy: 0.9544\n",
      "Epoch 13/50\n",
      "37/36 [==============================] - 20s 540ms/step - loss: 0.0407 - accuracy: 0.9865 - val_loss: 0.1400 - val_accuracy: 0.9422\n",
      "Epoch 14/50\n",
      "37/36 [==============================] - 20s 537ms/step - loss: 0.0430 - accuracy: 0.9856 - val_loss: 0.1553 - val_accuracy: 0.9483\n",
      "Epoch 15/50\n",
      "37/36 [==============================] - 20s 546ms/step - loss: 0.0284 - accuracy: 0.9907 - val_loss: 0.2719 - val_accuracy: 0.9514\n",
      "Epoch 16/50\n",
      "37/36 [==============================] - 20s 536ms/step - loss: 0.0273 - accuracy: 0.9932 - val_loss: 0.1185 - val_accuracy: 0.9696\n",
      "Epoch 17/50\n",
      "37/36 [==============================] - 20s 538ms/step - loss: 0.0249 - accuracy: 0.9932 - val_loss: 0.2437 - val_accuracy: 0.9422\n",
      "Epoch 18/50\n",
      "37/36 [==============================] - 20s 547ms/step - loss: 0.0190 - accuracy: 0.9949 - val_loss: 0.2269 - val_accuracy: 0.9483\n",
      "Epoch 19/50\n",
      "37/36 [==============================] - 20s 536ms/step - loss: 0.0277 - accuracy: 0.9882 - val_loss: 0.1737 - val_accuracy: 0.9635\n",
      "Epoch 20/50\n",
      "37/36 [==============================] - 20s 534ms/step - loss: 0.0133 - accuracy: 0.9949 - val_loss: 0.0983 - val_accuracy: 0.9818\n",
      "Epoch 21/50\n",
      "37/36 [==============================] - 20s 543ms/step - loss: 0.0184 - accuracy: 0.9949 - val_loss: 0.2247 - val_accuracy: 0.9605\n",
      "Epoch 22/50\n",
      "37/36 [==============================] - 20s 529ms/step - loss: 0.0152 - accuracy: 0.9958 - val_loss: 0.1504 - val_accuracy: 0.9666\n",
      "Epoch 23/50\n",
      "37/36 [==============================] - 20s 537ms/step - loss: 0.0158 - accuracy: 0.9966 - val_loss: 0.1406 - val_accuracy: 0.9574\n",
      "Epoch 24/50\n",
      "37/36 [==============================] - 20s 541ms/step - loss: 0.0167 - accuracy: 0.9966 - val_loss: 0.1855 - val_accuracy: 0.9635\n",
      "Epoch 25/50\n",
      "37/36 [==============================] - 20s 537ms/step - loss: 0.0175 - accuracy: 0.9949 - val_loss: 0.1584 - val_accuracy: 0.9605\n",
      "Epoch 26/50\n",
      "37/36 [==============================] - 20s 534ms/step - loss: 0.0105 - accuracy: 0.9966 - val_loss: 0.1322 - val_accuracy: 0.9726\n",
      "Epoch 27/50\n",
      "37/36 [==============================] - 20s 539ms/step - loss: 0.0095 - accuracy: 0.9975 - val_loss: 0.0568 - val_accuracy: 0.9818\n",
      "Epoch 28/50\n",
      "37/36 [==============================] - 20s 537ms/step - loss: 0.0069 - accuracy: 0.9992 - val_loss: 0.1071 - val_accuracy: 0.9696\n",
      "Epoch 29/50\n",
      "37/36 [==============================] - 20s 534ms/step - loss: 0.0078 - accuracy: 0.9992 - val_loss: 0.1561 - val_accuracy: 0.9605\n",
      "Epoch 30/50\n",
      "37/36 [==============================] - 20s 536ms/step - loss: 0.0111 - accuracy: 0.9949 - val_loss: 0.1592 - val_accuracy: 0.9635\n",
      "Epoch 31/50\n",
      "37/36 [==============================] - 20s 540ms/step - loss: 0.0063 - accuracy: 0.9992 - val_loss: 0.1352 - val_accuracy: 0.9757\n",
      "Epoch 32/50\n",
      "37/36 [==============================] - 20s 533ms/step - loss: 0.0074 - accuracy: 0.9975 - val_loss: 0.1655 - val_accuracy: 0.9757\n",
      "Epoch 33/50\n",
      "37/36 [==============================] - 20s 528ms/step - loss: 0.0120 - accuracy: 0.9966 - val_loss: 0.1728 - val_accuracy: 0.9726\n",
      "Epoch 34/50\n",
      "37/36 [==============================] - 20s 542ms/step - loss: 0.0057 - accuracy: 1.0000 - val_loss: 0.1933 - val_accuracy: 0.9544\n",
      "Epoch 35/50\n",
      "37/36 [==============================] - 20s 531ms/step - loss: 0.0085 - accuracy: 0.9992 - val_loss: 0.1365 - val_accuracy: 0.9635\n",
      "Epoch 36/50\n",
      "37/36 [==============================] - 20s 537ms/step - loss: 0.0085 - accuracy: 0.9958 - val_loss: 0.1500 - val_accuracy: 0.9726\n",
      "Epoch 37/50\n",
      "37/36 [==============================] - 20s 540ms/step - loss: 0.0074 - accuracy: 0.9992 - val_loss: 0.2010 - val_accuracy: 0.9605\n",
      "Epoch 38/50\n",
      "37/36 [==============================] - 20s 534ms/step - loss: 0.0080 - accuracy: 0.9975 - val_loss: 0.1945 - val_accuracy: 0.9635\n",
      "Epoch 39/50\n",
      "37/36 [==============================] - 20s 532ms/step - loss: 0.0046 - accuracy: 0.9983 - val_loss: 0.0855 - val_accuracy: 0.9726\n",
      "Epoch 40/50\n",
      "37/36 [==============================] - 20s 538ms/step - loss: 0.0083 - accuracy: 0.9983 - val_loss: 0.1877 - val_accuracy: 0.9666\n",
      "Epoch 41/50\n",
      "37/36 [==============================] - 20s 529ms/step - loss: 0.0085 - accuracy: 0.9983 - val_loss: 0.1492 - val_accuracy: 0.9696\n",
      "Epoch 42/50\n",
      "37/36 [==============================] - 20s 532ms/step - loss: 0.0041 - accuracy: 0.9992 - val_loss: 0.0962 - val_accuracy: 0.9818\n",
      "Epoch 43/50\n",
      "37/36 [==============================] - 20s 531ms/step - loss: 0.0037 - accuracy: 0.9992 - val_loss: 0.1731 - val_accuracy: 0.9726\n",
      "Epoch 44/50\n",
      "37/36 [==============================] - 19s 527ms/step - loss: 0.0042 - accuracy: 0.9992 - val_loss: 0.1588 - val_accuracy: 0.9635\n",
      "Epoch 45/50\n",
      "37/36 [==============================] - 20s 538ms/step - loss: 0.0037 - accuracy: 0.9992 - val_loss: 0.1772 - val_accuracy: 0.9574\n",
      "Epoch 46/50\n",
      "37/36 [==============================] - 20s 543ms/step - loss: 0.0058 - accuracy: 0.9983 - val_loss: 0.0837 - val_accuracy: 0.9696\n",
      "Epoch 47/50\n",
      "37/36 [==============================] - 20s 549ms/step - loss: 0.0022 - accuracy: 1.0000 - val_loss: 0.1756 - val_accuracy: 0.9666\n",
      "Epoch 48/50\n",
      "20/36 [===============>..............] - ETA: 6s - loss: 0.0019 - accuracy: 1.0000"
     ]
    }
   ],
   "source": [
    "model.fit(train_it,\n",
    "          validation_data=valid_it,\n",
    "          steps_per_epoch=train_it.samples/train_it.batch_size,\n",
    "          validation_steps=valid_it.samples/valid_it.batch_size,\n",
    "          epochs=50)"
   ]
  },
  {
   "cell_type": "markdown",
   "metadata": {},
   "source": [
    "## Unfreeze Model for Fine Tuning"
   ]
  },
  {
   "cell_type": "markdown",
   "metadata": {},
   "source": [
    "If you have reached 92% validation accuracy already, this next step is optional. If not, we suggest fine tuning the model with a very low learning rate."
   ]
  },
  {
   "cell_type": "code",
   "execution_count": null,
   "metadata": {},
   "outputs": [],
   "source": [
    "# Unfreeze the base model\n",
    "base_model.trainable = FIXME\n",
    "\n",
    "# Compile the model with a low learning rate\n",
    "model.compile(optimizer=keras.optimizers.RMSprop(learning_rate = .00001),\n",
    "              loss = 'categorical_crossentropy' , metrics = ['accuracy'])"
   ]
  },
  {
   "cell_type": "code",
   "execution_count": null,
   "metadata": {},
   "outputs": [],
   "source": [
    "model.fit(train_it,\n",
    "          validation_data=valid_it,\n",
    "          steps_per_epoch=train_it.samples/train_it.batch_size,\n",
    "          validation_steps=valid_it.samples/valid_it.batch_size,\n",
    "          epochs=FIXME)"
   ]
  },
  {
   "cell_type": "markdown",
   "metadata": {},
   "source": [
    "## Evaluate the Model"
   ]
  },
  {
   "cell_type": "markdown",
   "metadata": {},
   "source": [
    "Hopefully, you now have a model that has a validation accuracy of 92% or higher. If not, you may want to go back and either run more epochs of training, or adjust your data augmentation. \n",
    "\n",
    "Once you are satisfied with the validation accuracy, evaluate the model by executing the following cell. The evaluate function will return a tuple, where the first value is your loss, and the second value is your accuracy. To pass, the model will need have an accuracy value of `92% or higher`. "
   ]
  },
  {
   "cell_type": "code",
   "execution_count": null,
   "metadata": {},
   "outputs": [],
   "source": [
    "model.evaluate(valid_it, steps=valid_it.samples/valid_it.batch_size)"
   ]
  },
  {
   "cell_type": "markdown",
   "metadata": {},
   "source": [
    "## Run the Assessment"
   ]
  },
  {
   "cell_type": "markdown",
   "metadata": {},
   "source": [
    "To assess your model run the following two cells.\n",
    "\n",
    "**NOTE:** `run_assessment` assumes your model is named `model` and your validation data iterator is called `valid_it`. If for any reason you have modified these variable names, please update the names of the arguments passed to `run_assessment`."
   ]
  },
  {
   "cell_type": "code",
   "execution_count": null,
   "metadata": {},
   "outputs": [],
   "source": [
    "from run_assessment import run_assessment"
   ]
  },
  {
   "cell_type": "code",
   "execution_count": null,
   "metadata": {},
   "outputs": [],
   "source": [
    "run_assessment(model, valid_it)"
   ]
  },
  {
   "cell_type": "markdown",
   "metadata": {},
   "source": [
    "## Generate a Certificate"
   ]
  },
  {
   "cell_type": "markdown",
   "metadata": {},
   "source": [
    "If you passed the assessment, please return to the course page (shown below) and click the \"ASSESS TASK\" button, which will generate your certificate for the course."
   ]
  },
  {
   "cell_type": "markdown",
   "metadata": {},
   "source": [
    "<img src=\"./images/assess_task.png\" style=\"width: 800px;\">"
   ]
  }
 ],
 "metadata": {
  "kernelspec": {
   "display_name": "Python 3",
   "language": "python",
   "name": "python3"
  },
  "language_info": {
   "codemirror_mode": {
    "name": "ipython",
    "version": 3
   },
   "file_extension": ".py",
   "mimetype": "text/x-python",
   "name": "python",
   "nbconvert_exporter": "python",
   "pygments_lexer": "ipython3",
   "version": "3.6.9"
  }
 },
 "nbformat": 4,
 "nbformat_minor": 4
}
